{
 "cells": [
  {
   "cell_type": "code",
   "execution_count": 1,
   "id": "4c105051",
   "metadata": {},
   "outputs": [],
   "source": [
    "# Step 1: Import Libraries and Load the Model\n",
    "import numpy as np\n",
    "import tensorflow as tf\n",
    "from tensorflow.keras.datasets import imdb\n",
    "from tensorflow.keras.preprocessing import sequence\n",
    "from tensorflow.keras.models import load_model"
   ]
  },
  {
   "cell_type": "code",
   "execution_count": 2,
   "id": "fa2e37c7",
   "metadata": {},
   "outputs": [],
   "source": [
    "# Load the IMDB dataset word index\n",
    "word_index = imdb.get_word_index()\n",
    "reverse_word_index = {value: key for key, value in word_index.items()}"
   ]
  },
  {
   "cell_type": "code",
   "execution_count": 3,
   "id": "18f09619",
   "metadata": {},
   "outputs": [
    {
     "name": "stderr",
     "output_type": "stream",
     "text": [
      "WARNING:absl:Compiled the loaded model, but the compiled metrics have yet to be built. `model.compile_metrics` will be empty until you train or evaluate the model.\n"
     ]
    },
    {
     "data": {
      "text/html": [
       "<pre style=\"white-space:pre;overflow-x:auto;line-height:normal;font-family:Menlo,'DejaVu Sans Mono',consolas,'Courier New',monospace\"><span style=\"font-weight: bold\">Model: \"sequential_1\"</span>\n",
       "</pre>\n"
      ],
      "text/plain": [
       "\u001b[1mModel: \"sequential_1\"\u001b[0m\n"
      ]
     },
     "metadata": {},
     "output_type": "display_data"
    },
    {
     "data": {
      "text/html": [
       "<pre style=\"white-space:pre;overflow-x:auto;line-height:normal;font-family:Menlo,'DejaVu Sans Mono',consolas,'Courier New',monospace\">┏━━━━━━━━━━━━━━━━━━━━━━━━━━━━━━━━━┳━━━━━━━━━━━━━━━━━━━━━━━━┳━━━━━━━━━━━━━━━┓\n",
       "┃<span style=\"font-weight: bold\"> Layer (type)                    </span>┃<span style=\"font-weight: bold\"> Output Shape           </span>┃<span style=\"font-weight: bold\">       Param # </span>┃\n",
       "┡━━━━━━━━━━━━━━━━━━━━━━━━━━━━━━━━━╇━━━━━━━━━━━━━━━━━━━━━━━━╇━━━━━━━━━━━━━━━┩\n",
       "│ embedding_1 (<span style=\"color: #0087ff; text-decoration-color: #0087ff\">Embedding</span>)         │ (<span style=\"color: #00d7ff; text-decoration-color: #00d7ff\">None</span>, <span style=\"color: #00af00; text-decoration-color: #00af00\">500</span>, <span style=\"color: #00af00; text-decoration-color: #00af00\">128</span>)       │     <span style=\"color: #00af00; text-decoration-color: #00af00\">1,280,000</span> │\n",
       "├─────────────────────────────────┼────────────────────────┼───────────────┤\n",
       "│ simple_rnn_1 (<span style=\"color: #0087ff; text-decoration-color: #0087ff\">SimpleRNN</span>)        │ (<span style=\"color: #00d7ff; text-decoration-color: #00d7ff\">None</span>, <span style=\"color: #00af00; text-decoration-color: #00af00\">128</span>)            │        <span style=\"color: #00af00; text-decoration-color: #00af00\">32,896</span> │\n",
       "├─────────────────────────────────┼────────────────────────┼───────────────┤\n",
       "│ dense_1 (<span style=\"color: #0087ff; text-decoration-color: #0087ff\">Dense</span>)                 │ (<span style=\"color: #00d7ff; text-decoration-color: #00d7ff\">None</span>, <span style=\"color: #00af00; text-decoration-color: #00af00\">1</span>)              │           <span style=\"color: #00af00; text-decoration-color: #00af00\">129</span> │\n",
       "└─────────────────────────────────┴────────────────────────┴───────────────┘\n",
       "</pre>\n"
      ],
      "text/plain": [
       "┏━━━━━━━━━━━━━━━━━━━━━━━━━━━━━━━━━┳━━━━━━━━━━━━━━━━━━━━━━━━┳━━━━━━━━━━━━━━━┓\n",
       "┃\u001b[1m \u001b[0m\u001b[1mLayer (type)                   \u001b[0m\u001b[1m \u001b[0m┃\u001b[1m \u001b[0m\u001b[1mOutput Shape          \u001b[0m\u001b[1m \u001b[0m┃\u001b[1m \u001b[0m\u001b[1m      Param #\u001b[0m\u001b[1m \u001b[0m┃\n",
       "┡━━━━━━━━━━━━━━━━━━━━━━━━━━━━━━━━━╇━━━━━━━━━━━━━━━━━━━━━━━━╇━━━━━━━━━━━━━━━┩\n",
       "│ embedding_1 (\u001b[38;5;33mEmbedding\u001b[0m)         │ (\u001b[38;5;45mNone\u001b[0m, \u001b[38;5;34m500\u001b[0m, \u001b[38;5;34m128\u001b[0m)       │     \u001b[38;5;34m1,280,000\u001b[0m │\n",
       "├─────────────────────────────────┼────────────────────────┼───────────────┤\n",
       "│ simple_rnn_1 (\u001b[38;5;33mSimpleRNN\u001b[0m)        │ (\u001b[38;5;45mNone\u001b[0m, \u001b[38;5;34m128\u001b[0m)            │        \u001b[38;5;34m32,896\u001b[0m │\n",
       "├─────────────────────────────────┼────────────────────────┼───────────────┤\n",
       "│ dense_1 (\u001b[38;5;33mDense\u001b[0m)                 │ (\u001b[38;5;45mNone\u001b[0m, \u001b[38;5;34m1\u001b[0m)              │           \u001b[38;5;34m129\u001b[0m │\n",
       "└─────────────────────────────────┴────────────────────────┴───────────────┘\n"
      ]
     },
     "metadata": {},
     "output_type": "display_data"
    },
    {
     "data": {
      "text/html": [
       "<pre style=\"white-space:pre;overflow-x:auto;line-height:normal;font-family:Menlo,'DejaVu Sans Mono',consolas,'Courier New',monospace\"><span style=\"font-weight: bold\"> Total params: </span><span style=\"color: #00af00; text-decoration-color: #00af00\">1,313,027</span> (5.01 MB)\n",
       "</pre>\n"
      ],
      "text/plain": [
       "\u001b[1m Total params: \u001b[0m\u001b[38;5;34m1,313,027\u001b[0m (5.01 MB)\n"
      ]
     },
     "metadata": {},
     "output_type": "display_data"
    },
    {
     "data": {
      "text/html": [
       "<pre style=\"white-space:pre;overflow-x:auto;line-height:normal;font-family:Menlo,'DejaVu Sans Mono',consolas,'Courier New',monospace\"><span style=\"font-weight: bold\"> Trainable params: </span><span style=\"color: #00af00; text-decoration-color: #00af00\">1,313,025</span> (5.01 MB)\n",
       "</pre>\n"
      ],
      "text/plain": [
       "\u001b[1m Trainable params: \u001b[0m\u001b[38;5;34m1,313,025\u001b[0m (5.01 MB)\n"
      ]
     },
     "metadata": {},
     "output_type": "display_data"
    },
    {
     "data": {
      "text/html": [
       "<pre style=\"white-space:pre;overflow-x:auto;line-height:normal;font-family:Menlo,'DejaVu Sans Mono',consolas,'Courier New',monospace\"><span style=\"font-weight: bold\"> Non-trainable params: </span><span style=\"color: #00af00; text-decoration-color: #00af00\">0</span> (0.00 B)\n",
       "</pre>\n"
      ],
      "text/plain": [
       "\u001b[1m Non-trainable params: \u001b[0m\u001b[38;5;34m0\u001b[0m (0.00 B)\n"
      ]
     },
     "metadata": {},
     "output_type": "display_data"
    },
    {
     "data": {
      "text/html": [
       "<pre style=\"white-space:pre;overflow-x:auto;line-height:normal;font-family:Menlo,'DejaVu Sans Mono',consolas,'Courier New',monospace\"><span style=\"font-weight: bold\"> Optimizer params: </span><span style=\"color: #00af00; text-decoration-color: #00af00\">2</span> (12.00 B)\n",
       "</pre>\n"
      ],
      "text/plain": [
       "\u001b[1m Optimizer params: \u001b[0m\u001b[38;5;34m2\u001b[0m (12.00 B)\n"
      ]
     },
     "metadata": {},
     "output_type": "display_data"
    }
   ],
   "source": [
    "model = load_model('simple_rnn_imdb.h5')\n",
    "model.summary()"
   ]
  },
  {
   "cell_type": "code",
   "execution_count": 4,
   "id": "12c952ef",
   "metadata": {},
   "outputs": [
    {
     "data": {
      "text/plain": [
       "[array([[-0.24684356, -0.10838463, -0.26432744, ..., -0.18070023,\n",
       "         -0.1721422 ,  0.19937049],\n",
       "        [-0.0294423 , -0.02612989, -0.02007993, ..., -0.00048071,\n",
       "          0.00167168, -0.02127256],\n",
       "        [ 0.00073174, -0.04869627, -0.03951336, ..., -0.01787267,\n",
       "          0.01681691,  0.06430809],\n",
       "        ...,\n",
       "        [ 0.07556067,  0.0556808 ,  0.06443115, ..., -0.0589079 ,\n",
       "          0.02820847, -0.01456346],\n",
       "        [-0.03875222,  0.01662992, -0.07666651, ..., -0.0092318 ,\n",
       "         -0.01193811, -0.09559157],\n",
       "        [ 0.00769199,  0.03230315,  0.01136773, ..., -0.05677213,\n",
       "          0.00209303,  0.07354567]], dtype=float32),\n",
       " array([[ 0.04618326,  0.0657731 ,  0.12885316, ...,  0.04094836,\n",
       "         -0.01742628,  0.03363668],\n",
       "        [-0.02477594, -0.06081831,  0.11435299, ...,  0.00529491,\n",
       "          0.02646828,  0.13937561],\n",
       "        [-0.02191062,  0.13538635, -0.10549463, ..., -0.12824383,\n",
       "          0.07523968,  0.058474  ],\n",
       "        ...,\n",
       "        [-0.04950588, -0.03004373, -0.10662536, ..., -0.00872092,\n",
       "         -0.07928701,  0.08865222],\n",
       "        [ 0.09231792, -0.06471279, -0.05854252, ..., -0.12494813,\n",
       "          0.10855736,  0.09458363],\n",
       "        [ 0.12432591, -0.10442623,  0.13156253, ...,  0.11914055,\n",
       "          0.0420798 , -0.11537638]], dtype=float32),\n",
       " array([[ 0.16802363,  0.12280328, -0.05489917, ...,  0.03936978,\n",
       "          0.0015589 ,  0.08038236],\n",
       "        [ 0.11923952, -0.11749375,  0.10546338, ...,  0.0367439 ,\n",
       "         -0.10954827,  0.03855853],\n",
       "        [-0.03798928, -0.01822974,  0.13959363, ..., -0.1407793 ,\n",
       "         -0.01152551, -0.1005029 ],\n",
       "        ...,\n",
       "        [ 0.0939943 ,  0.06429287,  0.03531448, ..., -0.03981887,\n",
       "          0.08517405,  0.0213582 ],\n",
       "        [ 0.5506367 , -0.00734473, -0.16481192, ..., -0.03528971,\n",
       "         -0.0810418 , -0.11038414],\n",
       "        [ 0.16675986,  0.2269546 ,  0.00117212, ...,  0.01221226,\n",
       "         -0.14254102, -0.13302846]], dtype=float32),\n",
       " array([-1.28216902e-02, -1.51657406e-02,  4.82563488e-03, -2.15418590e-03,\n",
       "         1.69615895e-02, -2.14852439e-03, -5.54809812e-03,  3.50157754e-03,\n",
       "        -1.03739025e-02,  4.11080313e-04, -3.08336271e-03,  3.02769500e-03,\n",
       "        -1.22755440e-03,  5.64426929e-03, -3.03762528e-04,  3.84334684e-03,\n",
       "         1.95915316e-04, -1.32347783e-02, -1.15591828e-02, -3.86870583e-03,\n",
       "        -2.17347359e-03, -3.59174493e-03, -3.66821606e-03,  1.56467377e-05,\n",
       "         3.54973716e-03, -1.93352287e-03,  1.38026690e-02,  4.25834063e-04,\n",
       "         4.57280781e-03, -9.25844163e-03,  3.37442732e-03,  9.42211412e-03,\n",
       "        -1.82825085e-02, -1.03905415e-02,  4.07226430e-03, -6.92731980e-03,\n",
       "        -1.32602034e-02,  1.29771363e-02, -3.08905542e-03, -1.17330626e-02,\n",
       "         9.31156427e-03, -2.16997787e-02, -1.86416060e-02, -1.70743447e-02,\n",
       "        -4.87071648e-03, -5.04344143e-03, -1.87378668e-03, -2.39863321e-02,\n",
       "         5.87224262e-03, -6.06367225e-03, -1.10118371e-03, -6.51545264e-03,\n",
       "        -2.16317046e-02,  2.85512605e-03,  2.25972850e-02, -2.55768117e-03,\n",
       "        -5.83314031e-05, -9.81884915e-03, -9.82903317e-03,  7.63453718e-04,\n",
       "        -9.22414847e-03,  3.41309910e-03, -1.48407165e-02, -8.92672513e-04,\n",
       "        -6.39006356e-03, -9.80125181e-03, -6.93654316e-03,  3.98796471e-03,\n",
       "         1.08796323e-03,  1.41304471e-02, -8.21573101e-03, -3.57206305e-03,\n",
       "        -6.61264965e-03, -1.75812899e-03, -7.92724360e-03, -1.33295986e-03,\n",
       "         1.27770528e-02, -2.11960245e-02, -5.48298471e-03,  1.25070242e-02,\n",
       "        -6.58254430e-04,  5.01503935e-03, -2.72215046e-02, -2.88990350e-03,\n",
       "         1.15265576e-02, -2.42953822e-02,  2.33691800e-02, -5.55212284e-03,\n",
       "         4.05360851e-03,  3.73578467e-03, -6.10717386e-03,  1.87330670e-03,\n",
       "        -1.73837282e-02, -1.58805735e-02, -1.46294041e-02, -1.34285148e-02,\n",
       "        -1.45117994e-02,  6.18685875e-03, -1.93339996e-02, -2.85472698e-03,\n",
       "         5.85283712e-03,  5.57598658e-03, -1.52959079e-02,  1.30242869e-01,\n",
       "        -2.28045024e-02, -8.60397238e-03, -8.50348547e-03,  4.73020598e-03,\n",
       "        -2.14560609e-02, -3.09816585e-03, -9.34734847e-03,  4.17198054e-03,\n",
       "         1.49946625e-03, -7.70343980e-03, -2.33187317e-03,  3.39257298e-03,\n",
       "         1.37764569e-02, -1.11583872e-02,  5.92129305e-03, -2.50858022e-03,\n",
       "        -1.25504639e-02,  8.99434276e-03, -4.18719079e-04,  1.82086695e-02,\n",
       "        -4.73737950e-03,  7.56196491e-03,  7.31793325e-03, -1.66847575e-02],\n",
       "       dtype=float32),\n",
       " array([[ 0.51337934],\n",
       "        [ 0.06801614],\n",
       "        [ 0.00987229],\n",
       "        [-0.15071821],\n",
       "        [-0.19373526],\n",
       "        [ 0.16094315],\n",
       "        [ 0.0617884 ],\n",
       "        [ 0.6142656 ],\n",
       "        [ 0.15143727],\n",
       "        [-0.00522505],\n",
       "        [-0.15107684],\n",
       "        [-0.04561667],\n",
       "        [-0.03360458],\n",
       "        [-0.17450163],\n",
       "        [-0.05915047],\n",
       "        [ 0.52525115],\n",
       "        [ 0.02655238],\n",
       "        [-0.7394688 ],\n",
       "        [-0.095399  ],\n",
       "        [ 0.08711819],\n",
       "        [ 0.10663085],\n",
       "        [ 0.11508948],\n",
       "        [ 0.20571107],\n",
       "        [ 0.01048876],\n",
       "        [ 0.02633739],\n",
       "        [-0.09434317],\n",
       "        [-0.15915164],\n",
       "        [ 0.04813474],\n",
       "        [-0.05973189],\n",
       "        [-0.09827203],\n",
       "        [-0.14447361],\n",
       "        [-0.6410837 ],\n",
       "        [-0.05357603],\n",
       "        [-0.14694671],\n",
       "        [-0.20426042],\n",
       "        [ 0.15828523],\n",
       "        [ 0.09761013],\n",
       "        [-0.14012259],\n",
       "        [-0.15089831],\n",
       "        [-0.0042611 ],\n",
       "        [ 0.03550465],\n",
       "        [ 0.06766209],\n",
       "        [-0.11645976],\n",
       "        [-0.19351424],\n",
       "        [ 0.52389747],\n",
       "        [-0.136731  ],\n",
       "        [ 0.11942384],\n",
       "        [-0.10082699],\n",
       "        [-0.18178257],\n",
       "        [-0.16721852],\n",
       "        [-0.43170935],\n",
       "        [-0.03310839],\n",
       "        [-0.72577   ],\n",
       "        [-0.19408026],\n",
       "        [ 0.11046202],\n",
       "        [-0.11911052],\n",
       "        [-0.15108037],\n",
       "        [ 0.08497018],\n",
       "        [-0.40129873],\n",
       "        [-0.12931141],\n",
       "        [-0.04121954],\n",
       "        [-0.01936886],\n",
       "        [ 0.20635775],\n",
       "        [-0.3263198 ],\n",
       "        [ 0.1847523 ],\n",
       "        [-0.03326036],\n",
       "        [ 0.24473108],\n",
       "        [-0.17794345],\n",
       "        [-0.00157214],\n",
       "        [ 0.158161  ],\n",
       "        [ 0.17693347],\n",
       "        [ 0.13521427],\n",
       "        [-0.10814466],\n",
       "        [-0.18048528],\n",
       "        [ 0.2022226 ],\n",
       "        [-0.07337879],\n",
       "        [ 0.2477191 ],\n",
       "        [-0.04798963],\n",
       "        [ 0.0897378 ],\n",
       "        [ 0.12575367],\n",
       "        [ 0.21859887],\n",
       "        [-0.13864867],\n",
       "        [-0.08810671],\n",
       "        [ 0.12127106],\n",
       "        [-0.35136187],\n",
       "        [-0.03236467],\n",
       "        [-0.11680927],\n",
       "        [-0.10780099],\n",
       "        [ 0.1917881 ],\n",
       "        [ 0.2005801 ],\n",
       "        [ 0.21530837],\n",
       "        [ 0.00487616],\n",
       "        [-0.10883669],\n",
       "        [ 0.01457974],\n",
       "        [-0.12691613],\n",
       "        [-0.47083297],\n",
       "        [ 0.14988099],\n",
       "        [-0.67351735],\n",
       "        [-0.5497477 ],\n",
       "        [-0.10504609],\n",
       "        [ 0.20429814],\n",
       "        [ 0.03394122],\n",
       "        [ 0.788883  ],\n",
       "        [ 0.5933461 ],\n",
       "        [ 0.38412872],\n",
       "        [-0.6066755 ],\n",
       "        [-0.03822873],\n",
       "        [ 0.23789477],\n",
       "        [ 0.03438833],\n",
       "        [ 0.07896049],\n",
       "        [ 0.22438268],\n",
       "        [-0.11691052],\n",
       "        [ 0.36426046],\n",
       "        [ 0.10566568],\n",
       "        [ 0.1381597 ],\n",
       "        [-0.2127967 ],\n",
       "        [ 0.18830064],\n",
       "        [-0.20402385],\n",
       "        [-0.00288162],\n",
       "        [-0.00917488],\n",
       "        [-0.03391895],\n",
       "        [-0.176828  ],\n",
       "        [-0.2966582 ],\n",
       "        [ 0.04213405],\n",
       "        [ 0.20070586],\n",
       "        [ 0.08347512],\n",
       "        [ 0.1937679 ],\n",
       "        [ 0.0531983 ]], dtype=float32),\n",
       " array([0.17435175], dtype=float32)]"
      ]
     },
     "execution_count": 4,
     "metadata": {},
     "output_type": "execute_result"
    }
   ],
   "source": [
    "model.get_weights()"
   ]
  },
  {
   "cell_type": "code",
   "execution_count": 5,
   "id": "8bbffbb1",
   "metadata": {},
   "outputs": [],
   "source": [
    "# Step 2: Helper Functions\n",
    "# Function to decode reviews\n",
    "def decode_review(encoded_review):\n",
    "    return ' '.join([reverse_word_index.get(i - 3, '?') for i in encoded_review])\n",
    "\n",
    "# Function to preprocess user input\n",
    "def preprocess_text(text):\n",
    "    words = text.lower().split()\n",
    "    encoded_review = [word_index.get(word, 2) + 3 for word in words]\n",
    "    padded_review = sequence.pad_sequences([encoded_review], maxlen=500)\n",
    "    return padded_review"
   ]
  },
  {
   "cell_type": "code",
   "execution_count": 6,
   "id": "a03fac57",
   "metadata": {},
   "outputs": [],
   "source": [
    "### Prediction  function\n",
    "\n",
    "def predict_sentiment(review):\n",
    "    preprocessed_input=preprocess_text(review)\n",
    "\n",
    "    prediction=model.predict(preprocessed_input)\n",
    "\n",
    "    sentiment = 'Positive' if prediction[0][0] > 0.5 else 'Negative'\n",
    "    \n",
    "    return sentiment, prediction[0][0]"
   ]
  },
  {
   "cell_type": "code",
   "execution_count": 7,
   "id": "d3722ef8",
   "metadata": {},
   "outputs": [
    {
     "name": "stdout",
     "output_type": "stream",
     "text": [
      "\u001b[1m1/1\u001b[0m \u001b[32m━━━━━━━━━━━━━━━━━━━━\u001b[0m\u001b[37m\u001b[0m \u001b[1m0s\u001b[0m 243ms/step\n"
     ]
    }
   ],
   "source": [
    "example_review = \"This movie was fantastic! The acting was great and the plot was thrilling.\"\n",
    "sentiment,score=predict_sentiment(example_review)"
   ]
  },
  {
   "cell_type": "code",
   "execution_count": 9,
   "id": "71827240",
   "metadata": {},
   "outputs": [
    {
     "name": "stdout",
     "output_type": "stream",
     "text": [
      "Review: This movie was fantastic! The acting was great and the plot was thrilling.\n",
      "Sentiment: Positive\n",
      "Prediction Score: 0.9145541787147522\n"
     ]
    }
   ],
   "source": [
    "print(f'Review: {example_review}')\n",
    "print(f'Sentiment: {sentiment}')\n",
    "print(f'Prediction Score: {score}')"
   ]
  },
  {
   "cell_type": "code",
   "execution_count": null,
   "id": "fcb59f1f",
   "metadata": {},
   "outputs": [],
   "source": []
  }
 ],
 "metadata": {
  "kernelspec": {
   "display_name": "Python 3",
   "language": "python",
   "name": "python3"
  },
  "language_info": {
   "codemirror_mode": {
    "name": "ipython",
    "version": 3
   },
   "file_extension": ".py",
   "mimetype": "text/x-python",
   "name": "python",
   "nbconvert_exporter": "python",
   "pygments_lexer": "ipython3",
   "version": "3.11.11"
  }
 },
 "nbformat": 4,
 "nbformat_minor": 5
}
